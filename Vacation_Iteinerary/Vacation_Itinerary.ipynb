{
 "cells": [
  {
   "cell_type": "markdown",
   "metadata": {},
   "source": [
    "## Deliverable 3. Create a Travel Itinerary Map."
   ]
  },
  {
   "cell_type": "code",
   "execution_count": 1,
   "metadata": {},
   "outputs": [],
   "source": [
    "# Dependencies and Setup\n",
    "import pandas as pd\n",
    "import requests\n",
    "import gmaps\n",
    "\n",
    "# Import API key\n",
    "from config import g_key\n",
    "\n",
    "# Configure gmaps\n",
    "gmaps.configure(api_key=g_key)"
   ]
  },
  {
   "cell_type": "code",
   "execution_count": 2,
   "metadata": {},
   "outputs": [
    {
     "data": {
      "text/html": [
       "<div>\n",
       "<style scoped>\n",
       "    .dataframe tbody tr th:only-of-type {\n",
       "        vertical-align: middle;\n",
       "    }\n",
       "\n",
       "    .dataframe tbody tr th {\n",
       "        vertical-align: top;\n",
       "    }\n",
       "\n",
       "    .dataframe thead th {\n",
       "        text-align: right;\n",
       "    }\n",
       "</style>\n",
       "<table border=\"1\" class=\"dataframe\">\n",
       "  <thead>\n",
       "    <tr style=\"text-align: right;\">\n",
       "      <th></th>\n",
       "      <th>City_ID</th>\n",
       "      <th>City</th>\n",
       "      <th>Country</th>\n",
       "      <th>Max Temp</th>\n",
       "      <th>Current Description</th>\n",
       "      <th>Lat</th>\n",
       "      <th>Lng</th>\n",
       "      <th>Hotel Name</th>\n",
       "    </tr>\n",
       "  </thead>\n",
       "  <tbody>\n",
       "    <tr>\n",
       "      <th>0</th>\n",
       "      <td>0</td>\n",
       "      <td>Kapaa</td>\n",
       "      <td>US</td>\n",
       "      <td>84.18</td>\n",
       "      <td>scattered clouds</td>\n",
       "      <td>22.0752</td>\n",
       "      <td>-159.3190</td>\n",
       "      <td>Sheraton Kauai Coconut Beach Resort</td>\n",
       "    </tr>\n",
       "    <tr>\n",
       "      <th>1</th>\n",
       "      <td>4</td>\n",
       "      <td>Port Keats</td>\n",
       "      <td>AU</td>\n",
       "      <td>73.27</td>\n",
       "      <td>broken clouds</td>\n",
       "      <td>-14.2500</td>\n",
       "      <td>129.5500</td>\n",
       "      <td>TDC Village (Hundred Man Camp)</td>\n",
       "    </tr>\n",
       "    <tr>\n",
       "      <th>2</th>\n",
       "      <td>5</td>\n",
       "      <td>Haines Junction</td>\n",
       "      <td>CA</td>\n",
       "      <td>75.42</td>\n",
       "      <td>clear sky</td>\n",
       "      <td>60.7522</td>\n",
       "      <td>-137.5108</td>\n",
       "      <td>Parkside Inn</td>\n",
       "    </tr>\n",
       "    <tr>\n",
       "      <th>3</th>\n",
       "      <td>7</td>\n",
       "      <td>Sampit</td>\n",
       "      <td>ID</td>\n",
       "      <td>73.53</td>\n",
       "      <td>few clouds</td>\n",
       "      <td>-2.5333</td>\n",
       "      <td>112.9500</td>\n",
       "      <td>Aquarius Boutique Hotel Sampit</td>\n",
       "    </tr>\n",
       "    <tr>\n",
       "      <th>4</th>\n",
       "      <td>12</td>\n",
       "      <td>Sioux Lookout</td>\n",
       "      <td>CA</td>\n",
       "      <td>76.41</td>\n",
       "      <td>broken clouds</td>\n",
       "      <td>50.1001</td>\n",
       "      <td>-91.9170</td>\n",
       "      <td>Knobby's Fly-In Camps</td>\n",
       "    </tr>\n",
       "  </tbody>\n",
       "</table>\n",
       "</div>"
      ],
      "text/plain": [
       "   City_ID             City Country  Max Temp Current Description      Lat  \\\n",
       "0        0            Kapaa      US     84.18    scattered clouds  22.0752   \n",
       "1        4       Port Keats      AU     73.27       broken clouds -14.2500   \n",
       "2        5  Haines Junction      CA     75.42           clear sky  60.7522   \n",
       "3        7           Sampit      ID     73.53          few clouds  -2.5333   \n",
       "4       12    Sioux Lookout      CA     76.41       broken clouds  50.1001   \n",
       "\n",
       "        Lng                           Hotel Name  \n",
       "0 -159.3190  Sheraton Kauai Coconut Beach Resort  \n",
       "1  129.5500       TDC Village (Hundred Man Camp)  \n",
       "2 -137.5108                         Parkside Inn  \n",
       "3  112.9500       Aquarius Boutique Hotel Sampit  \n",
       "4  -91.9170                Knobby's Fly-In Camps  "
      ]
     },
     "execution_count": 2,
     "metadata": {},
     "output_type": "execute_result"
    }
   ],
   "source": [
    "# 1. Read the WeatherPy_vacation.csv into a DataFrame.\n",
    "vacation_df = pd.read_csv(\"Vacation_Search/WeatherPy_vacation.csv\")\n",
    "vacation_df.head()"
   ]
  },
  {
   "cell_type": "code",
   "execution_count": 3,
   "metadata": {},
   "outputs": [],
   "source": [
    "# 2. Using the template add the city name, the country code, the weather description and maximum temperature for the city.\n",
    "info_box_template = \"\"\"\n",
    "<dl>\n",
    "<dt>Hotel Name</dt><dd>{Hotel Name}</dd>\n",
    "<dt>City</dt><dd>{City}</dd>\n",
    "<dt>Country</dt><dd>{Country}</dd>\n",
    "<dt>Current Weather</dt><dd>{Current Description} and {Max Temp} °F</dd>\n",
    "</dl>\n",
    "\"\"\"\n",
    "\n",
    "# 3a. Get the data from each row and add it to the formatting template and store the data in a list.\n",
    "hotel_info = [info_box_template.format(**row) for index, row in vacation_df.iterrows()]\n",
    "\n",
    "# 3b. Get the latitude and longitude from each row and store in a new DataFrame.\n",
    "locations = vacation_df[[\"Lat\", \"Lng\"]]"
   ]
  },
  {
   "cell_type": "code",
   "execution_count": 4,
   "metadata": {},
   "outputs": [
    {
     "data": {
      "application/vnd.jupyter.widget-view+json": {
       "model_id": "4ec9601473314af28e8910cfbfbb998f",
       "version_major": 2,
       "version_minor": 0
      },
      "text/plain": [
       "Figure(layout=FigureLayout(height='420px'))"
      ]
     },
     "metadata": {},
     "output_type": "display_data"
    }
   ],
   "source": [
    "# 4a. Add a marker layer for each city to the map.\n",
    "fig = gmaps.figure(center=(30.0, 31.0), zoom_level=1.5)\n",
    "marker_layer = gmaps.marker_layer(locations, info_box_content=hotel_info)\n",
    "fig.add_layer(marker_layer)\n",
    "# 4b. Display the figure\n",
    "fig\n"
   ]
  },
  {
   "cell_type": "code",
   "execution_count": 5,
   "metadata": {},
   "outputs": [],
   "source": [
    "# From the map above pick 4 cities and create a vacation itinerary route to travel between the four cities. \n",
    "# 5. Create DataFrames for each city by filtering the 'vacation_df' using the loc method. \n",
    "# Hint: The starting and ending city should be the same city.\n",
    "vacation_start = vacation_df.loc[vacation_df[\"City\"] == \"Wajima\"]\n",
    "vacation_end = vacation_df.loc[vacation_df[\"City\"] == \"Wajima\"]\n",
    "vacation_stop1 = vacation_df.loc[vacation_df[\"City\"] == \"Nara\"]\n",
    "vacation_stop2 = vacation_df.loc[vacation_df[\"City\"] == \"Sakaiminato\"]\n",
    "vacation_stop3 = vacation_df.loc[vacation_df[\"City\"] == \"Tottori\"]"
   ]
  },
  {
   "cell_type": "code",
   "execution_count": 6,
   "metadata": {},
   "outputs": [],
   "source": [
    "# 6. Get the latitude-longitude pairs as tuples from each city DataFrame using the to_numpy function and list indexing.\n",
    "start = vacation_start.to_numpy()[0][5:7]\n",
    "end = vacation_end.to_numpy()[0][5:7]\n",
    "stop1 = vacation_stop1.to_numpy()[0][5:7]\n",
    "stop2 = vacation_stop2.to_numpy()[0][5:7]\n",
    "stop3 = vacation_stop3.to_numpy()[0][5:7]\n"
   ]
  },
  {
   "cell_type": "code",
   "execution_count": 7,
   "metadata": {},
   "outputs": [
    {
     "data": {
      "application/vnd.jupyter.widget-view+json": {
       "model_id": "dc1e6a226ff74d43abadc879eb90278d",
       "version_major": 2,
       "version_minor": 0
      },
      "text/plain": [
       "Figure(layout=FigureLayout(height='420px'))"
      ]
     },
     "metadata": {},
     "output_type": "display_data"
    }
   ],
   "source": [
    "# 7. Create a direction layer map using the start and end latitude-longitude pairs,\n",
    "# and stop1, stop2, and stop3 as the waypoints. The travel_mode should be \"DRIVING\", \"BICYCLING\", or \"WALKING\".\n",
    "fig = gmaps.figure()\n",
    "vacation_itinerary = gmaps.directions_layer(\n",
    "            start,end, waypoints=[stop1,stop2,stop3],\n",
    "            travel_mode='DRIVING')\n",
    "fig.add_layer(vacation_itinerary)\n",
    "fig"
   ]
  },
  {
   "cell_type": "code",
   "execution_count": 8,
   "metadata": {},
   "outputs": [
    {
     "data": {
      "text/html": [
       "<div>\n",
       "<style scoped>\n",
       "    .dataframe tbody tr th:only-of-type {\n",
       "        vertical-align: middle;\n",
       "    }\n",
       "\n",
       "    .dataframe tbody tr th {\n",
       "        vertical-align: top;\n",
       "    }\n",
       "\n",
       "    .dataframe thead th {\n",
       "        text-align: right;\n",
       "    }\n",
       "</style>\n",
       "<table border=\"1\" class=\"dataframe\">\n",
       "  <thead>\n",
       "    <tr style=\"text-align: right;\">\n",
       "      <th></th>\n",
       "      <th>City_ID</th>\n",
       "      <th>City</th>\n",
       "      <th>Country</th>\n",
       "      <th>Max Temp</th>\n",
       "      <th>Current Description</th>\n",
       "      <th>Lat</th>\n",
       "      <th>Lng</th>\n",
       "      <th>Hotel Name</th>\n",
       "    </tr>\n",
       "  </thead>\n",
       "  <tbody>\n",
       "    <tr>\n",
       "      <th>0</th>\n",
       "      <td>31</td>\n",
       "      <td>Wajima</td>\n",
       "      <td>JP</td>\n",
       "      <td>78.37</td>\n",
       "      <td>broken clouds</td>\n",
       "      <td>37.4000</td>\n",
       "      <td>136.9000</td>\n",
       "      <td>Wajiima Onsen Yashio</td>\n",
       "    </tr>\n",
       "    <tr>\n",
       "      <th>1</th>\n",
       "      <td>649</td>\n",
       "      <td>Nara</td>\n",
       "      <td>JP</td>\n",
       "      <td>79.88</td>\n",
       "      <td>broken clouds</td>\n",
       "      <td>34.6851</td>\n",
       "      <td>135.8049</td>\n",
       "      <td>Guesthouse Nara Komachi</td>\n",
       "    </tr>\n",
       "    <tr>\n",
       "      <th>2</th>\n",
       "      <td>292</td>\n",
       "      <td>Sakaiminato</td>\n",
       "      <td>JP</td>\n",
       "      <td>73.38</td>\n",
       "      <td>scattered clouds</td>\n",
       "      <td>35.5500</td>\n",
       "      <td>133.2333</td>\n",
       "      <td>味処・民宿 まつや</td>\n",
       "    </tr>\n",
       "    <tr>\n",
       "      <th>3</th>\n",
       "      <td>659</td>\n",
       "      <td>Tottori</td>\n",
       "      <td>JP</td>\n",
       "      <td>75.69</td>\n",
       "      <td>clear sky</td>\n",
       "      <td>35.5000</td>\n",
       "      <td>134.2333</td>\n",
       "      <td>Hotel Monarque Tottori</td>\n",
       "    </tr>\n",
       "    <tr>\n",
       "      <th>4</th>\n",
       "      <td>31</td>\n",
       "      <td>Wajima</td>\n",
       "      <td>JP</td>\n",
       "      <td>78.37</td>\n",
       "      <td>broken clouds</td>\n",
       "      <td>37.4000</td>\n",
       "      <td>136.9000</td>\n",
       "      <td>Wajiima Onsen Yashio</td>\n",
       "    </tr>\n",
       "  </tbody>\n",
       "</table>\n",
       "</div>"
      ],
      "text/plain": [
       "   City_ID         City Country  Max Temp Current Description      Lat  \\\n",
       "0       31       Wajima      JP     78.37       broken clouds  37.4000   \n",
       "1      649         Nara      JP     79.88       broken clouds  34.6851   \n",
       "2      292  Sakaiminato      JP     73.38    scattered clouds  35.5500   \n",
       "3      659      Tottori      JP     75.69           clear sky  35.5000   \n",
       "4       31       Wajima      JP     78.37       broken clouds  37.4000   \n",
       "\n",
       "        Lng               Hotel Name  \n",
       "0  136.9000     Wajiima Onsen Yashio  \n",
       "1  135.8049  Guesthouse Nara Komachi  \n",
       "2  133.2333                味処・民宿 まつや  \n",
       "3  134.2333   Hotel Monarque Tottori  \n",
       "4  136.9000     Wajiima Onsen Yashio  "
      ]
     },
     "execution_count": 8,
     "metadata": {},
     "output_type": "execute_result"
    }
   ],
   "source": [
    "# 8. To create a marker layer map between the four cities.\n",
    "#  Combine the four city DataFrames into one DataFrame using the concat() function.\n",
    "itinerary_df = pd.concat([vacation_start,vacation_stop1,vacation_stop2,vacation_stop3,vacation_end],ignore_index=True)\n",
    "itinerary_df"
   ]
  },
  {
   "cell_type": "code",
   "execution_count": 9,
   "metadata": {},
   "outputs": [],
   "source": [
    "# 9 Using the template add city name, the country code, the weather description and maximum temperature for the city. \n",
    "info_box_template = \"\"\"\n",
    "<dl>\n",
    "<dt>Hotel Name</dt><dd>{Hotel Name}</dd>\n",
    "<dt>City</dt><dd>{City}</dd>\n",
    "<dt>Country</dt><dd>{Country}</dd>\n",
    "<dt>Current Weather</dt><dd>{Current Description} and {Max Temp} °F</dd>\n",
    "</dl>\n",
    "\"\"\"\n",
    "\n",
    "# 10a Get the data from each row and add it to the formatting template and store the data in a list.\n",
    "hotel_info = [info_box_template.format(**row) for index, row in itinerary_df.iterrows()]\n",
    "\n",
    "# 10b. Get the latitude and longitude from each row and store in a new DataFrame.\n",
    "locations = itinerary_df[[\"Lat\", \"Lng\"]]"
   ]
  },
  {
   "cell_type": "code",
   "execution_count": 10,
   "metadata": {},
   "outputs": [
    {
     "data": {
      "application/vnd.jupyter.widget-view+json": {
       "model_id": "49920638026a4e1599cc0112be0af86b",
       "version_major": 2,
       "version_minor": 0
      },
      "text/plain": [
       "Figure(layout=FigureLayout(height='420px'))"
      ]
     },
     "metadata": {},
     "output_type": "display_data"
    }
   ],
   "source": [
    "# 11a. Add a marker layer for each city to the map.\n",
    "marker_layer = gmaps.marker_layer(locations, info_box_content=hotel_info)\n",
    "fig=gmaps.figure()\n",
    "fig.add_layer(marker_layer)\n",
    "# 11b. Display the figure\n",
    "fig"
   ]
  },
  {
   "cell_type": "code",
   "execution_count": null,
   "metadata": {},
   "outputs": [],
   "source": []
  }
 ],
 "metadata": {
  "kernelspec": {
   "display_name": "PythonData",
   "language": "python",
   "name": "pythondata"
  },
  "language_info": {
   "codemirror_mode": {
    "name": "ipython",
    "version": 3
   },
   "file_extension": ".py",
   "mimetype": "text/x-python",
   "name": "python",
   "nbconvert_exporter": "python",
   "pygments_lexer": "ipython3",
   "version": "3.9.4"
  },
  "latex_envs": {
   "LaTeX_envs_menu_present": true,
   "autoclose": false,
   "autocomplete": true,
   "bibliofile": "biblio.bib",
   "cite_by": "apalike",
   "current_citInitial": 1,
   "eqLabelWithNumbers": true,
   "eqNumInitial": 1,
   "hotkeys": {
    "equation": "Ctrl-E",
    "itemize": "Ctrl-I"
   },
   "labels_anchors": false,
   "latex_user_defs": false,
   "report_style_numbering": false,
   "user_envs_cfg": false
  }
 },
 "nbformat": 4,
 "nbformat_minor": 2
}
